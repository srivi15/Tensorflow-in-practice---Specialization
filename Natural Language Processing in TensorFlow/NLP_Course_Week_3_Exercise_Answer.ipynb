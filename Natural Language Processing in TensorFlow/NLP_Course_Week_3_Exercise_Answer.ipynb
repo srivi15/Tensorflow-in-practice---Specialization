{
  "nbformat": 4,
  "nbformat_minor": 0,
  "metadata": {
    "accelerator": "GPU",
    "colab": {
      "name": "NLP Course - Week 3 Exercise Answer.ipynb",
      "provenance": [],
      "toc_visible": true
    },
    "kernelspec": {
      "display_name": "Python 3",
      "language": "python",
      "name": "python3"
    },
    "language_info": {
      "codemirror_mode": {
        "name": "ipython",
        "version": 3
      },
      "file_extension": ".py",
      "mimetype": "text/x-python",
      "name": "python",
      "nbconvert_exporter": "python",
      "pygments_lexer": "ipython3",
      "version": "3.7.6"
    }
  },
  "cells": [
    {
      "cell_type": "code",
      "metadata": {
        "colab_type": "code",
        "id": "zX4Kg8DUTKWO",
        "colab": {}
      },
      "source": [
        "#@title Licensed under the Apache License, Version 2.0 (the \"License\");\n",
        "# you may not use this file except in compliance with the License.\n",
        "# You may obtain a copy of the License at\n",
        "#\n",
        "# https://www.apache.org/licenses/LICENSE-2.0\n",
        "#\n",
        "# Unless required by applicable law or agreed to in writing, software\n",
        "# distributed under the License is distributed on an \"AS IS\" BASIS,\n",
        "# WITHOUT WARRANTIES OR CONDITIONS OF ANY KIND, either express or implied.\n",
        "# See the License for the specific language governing permissions and\n",
        "# limitations under the License."
      ],
      "execution_count": null,
      "outputs": []
    },
    {
      "cell_type": "markdown",
      "metadata": {
        "id": "N5ehSvyHssio",
        "colab_type": "text"
      },
      "source": [
        "<a href=\"https://colab.research.google.com/github/lmoroney/dlaicourse/blob/master/TensorFlow%20In%20Practice/Course%203%20-%20NLP/NLP%20Course%20-%20Week%203%20Exercise%20Answer.ipynb\" target=\"_parent\"><img src=\"https://colab.research.google.com/assets/colab-badge.svg\" alt=\"Open In Colab\"/></a>"
      ]
    },
    {
      "cell_type": "code",
      "metadata": {
        "colab_type": "code",
        "id": "hmA6EzkQJ5jt",
        "colab": {}
      },
      "source": [
        "import json\n",
        "import tensorflow as tf\n",
        "import csv\n",
        "import random\n",
        "import numpy as np\n",
        "\n",
        "from tensorflow.keras.preprocessing.text import Tokenizer\n",
        "from tensorflow.keras.preprocessing.sequence import pad_sequences\n",
        "from tensorflow.keras.utils import to_categorical\n",
        "from tensorflow.keras import regularizers\n",
        "\n",
        "\n",
        "embedding_dim = 100\n",
        "max_length = 16\n",
        "trunc_type='post'\n",
        "padding_type='post'\n",
        "oov_tok = \"<OOV>\"\n",
        "training_size=160000\n",
        "test_portion=.1\n",
        "\n",
        "corpus = []\n"
      ],
      "execution_count": 1,
      "outputs": []
    },
    {
      "cell_type": "code",
      "metadata": {
        "colab_type": "code",
        "id": "bM0l_dORKqE0",
        "colab": {
          "base_uri": "https://localhost:8080/",
          "height": 210
        },
        "outputId": "1180c9d5-38cf-4782-97ee-14e3ceeb1803"
      },
      "source": [
        "# Note that I cleaned the Stanford dataset to remove LATIN1 encoding to make it easier for Python CSV reader\n",
        "# You can do that yourself with:\n",
        "# iconv -f LATIN1 -t UTF8 training.1600000.processed.noemoticon.csv -o training_cleaned.csv\n",
        "# I then hosted it on my site to make it easier to use in this notebook\n",
        "\n",
        "!wget --no-check-certificate \\\n",
        "    https://storage.googleapis.com/laurencemoroney-blog.appspot.com/training_cleaned.csv \\\n",
        "    -O /tmp/training_cleaned.csv\n",
        "\n",
        "num_sentences = 0\n",
        "\n",
        "with open(\"/tmp/training_cleaned.csv\") as csvfile:\n",
        "    reader = csv.reader(csvfile, delimiter=',')\n",
        "    for row in reader:\n",
        "        list_item=[]\n",
        "        list_item.append(row[5])\n",
        "        this_label=row[0]\n",
        "        if this_label=='0':\n",
        "            list_item.append(0)\n",
        "        else:\n",
        "            list_item.append(1)\n",
        "        num_sentences = num_sentences + 1\n",
        "        corpus.append(list_item)\n"
      ],
      "execution_count": 2,
      "outputs": [
        {
          "output_type": "stream",
          "text": [
            "--2020-07-11 12:11:03--  https://storage.googleapis.com/laurencemoroney-blog.appspot.com/training_cleaned.csv\n",
            "Resolving storage.googleapis.com (storage.googleapis.com)... 74.125.133.128, 108.177.15.128, 173.194.76.128, ...\n",
            "Connecting to storage.googleapis.com (storage.googleapis.com)|74.125.133.128|:443... connected.\n",
            "HTTP request sent, awaiting response... 200 OK\n",
            "Length: 238942690 (228M) [application/octet-stream]\n",
            "Saving to: ‘/tmp/training_cleaned.csv’\n",
            "\n",
            "/tmp/training_clean 100%[===================>] 227.87M   167MB/s    in 1.4s    \n",
            "\n",
            "2020-07-11 12:11:04 (167 MB/s) - ‘/tmp/training_cleaned.csv’ saved [238942690/238942690]\n",
            "\n"
          ],
          "name": "stdout"
        }
      ]
    },
    {
      "cell_type": "code",
      "metadata": {
        "colab_type": "code",
        "id": "3kxblBUjEUX-",
        "colab": {
          "base_uri": "https://localhost:8080/",
          "height": 70
        },
        "outputId": "13fb7f2a-aa62-4808-e680-74ef0653e585"
      },
      "source": [
        "print(num_sentences)\n",
        "print(len(corpus))\n",
        "print(corpus[1])\n",
        "\n",
        "# Expected Output:\n",
        "# 1600000\n",
        "# 1600000\n",
        "# [\"is upset that he can't update his Facebook by texting it... and might cry as a result  School today also. Blah!\", 0]"
      ],
      "execution_count": 3,
      "outputs": [
        {
          "output_type": "stream",
          "text": [
            "1600000\n",
            "1600000\n",
            "[\"is upset that he can't update his Facebook by texting it... and might cry as a result  School today also. Blah!\", 0]\n"
          ],
          "name": "stdout"
        }
      ]
    },
    {
      "cell_type": "code",
      "metadata": {
        "colab_type": "code",
        "id": "ohOGz24lsNAD",
        "colab": {}
      },
      "source": [
        "sentences=[]\n",
        "labels=[]\n",
        "random.shuffle(corpus)\n",
        "for x in range(training_size):\n",
        "    sentences.append(corpus[x][0])\n",
        "    labels.append(corpus[x][1])\n",
        "\n",
        "\n",
        "tokenizer = Tokenizer()\n",
        "tokenizer.fit_on_texts(sentences)\n",
        "\n",
        "word_index = tokenizer.word_index\n",
        "vocab_size=len(word_index)\n",
        "\n",
        "sequences = tokenizer.texts_to_sequences(sentences)\n",
        "padded = pad_sequences(sequences, maxlen=max_length, padding=padding_type, truncating=trunc_type)\n",
        "\n",
        "split = int(test_portion * training_size)\n",
        "\n",
        "test_sequences = padded[0:split]\n",
        "training_sequences = padded[split:training_size]\n",
        "test_labels = labels[0:split]\n",
        "training_labels = labels[split:training_size]"
      ],
      "execution_count": 4,
      "outputs": []
    },
    {
      "cell_type": "code",
      "metadata": {
        "colab_type": "code",
        "id": "gIrtRem1En3N",
        "colab": {
          "base_uri": "https://localhost:8080/",
          "height": 52
        },
        "outputId": "42164f47-a699-4e35-ad5a-ed2fe544e098"
      },
      "source": [
        "print(vocab_size)\n",
        "print(word_index['i'])\n",
        "# Expected Output\n",
        "# 138858\n",
        "# 1"
      ],
      "execution_count": 5,
      "outputs": [
        {
          "output_type": "stream",
          "text": [
            "138568\n",
            "1\n"
          ],
          "name": "stdout"
        }
      ]
    },
    {
      "cell_type": "code",
      "metadata": {
        "colab_type": "code",
        "id": "C1zdgJkusRh0",
        "colab": {
          "base_uri": "https://localhost:8080/",
          "height": 210
        },
        "outputId": "d856ea54-13aa-43ae-e57c-c66768ebecff"
      },
      "source": [
        "# Note this is the 100 dimension version of GloVe from Stanford\n",
        "# I unzipped and hosted it on my site to make this notebook easier\n",
        "!wget --no-check-certificate \\\n",
        "    https://storage.googleapis.com/laurencemoroney-blog.appspot.com/glove.6B.100d.txt \\\n",
        "    -O /tmp/glove.6B.100d.txt\n",
        "embeddings_index = {};\n",
        "with open('/tmp/glove.6B.100d.txt') as f:\n",
        "    for line in f:\n",
        "        values = line.split();\n",
        "        word = values[0];\n",
        "        coefs = np.asarray(values[1:], dtype='float32');\n",
        "        embeddings_index[word] = coefs;\n",
        "\n",
        "embeddings_matrix = np.zeros((vocab_size+1, embedding_dim));\n",
        "for word, i in word_index.items():\n",
        "    embedding_vector = embeddings_index.get(word);\n",
        "    if embedding_vector is not None:\n",
        "        embeddings_matrix[i] = embedding_vector;"
      ],
      "execution_count": 6,
      "outputs": [
        {
          "output_type": "stream",
          "text": [
            "--2020-07-11 12:11:46--  https://storage.googleapis.com/laurencemoroney-blog.appspot.com/glove.6B.100d.txt\n",
            "Resolving storage.googleapis.com (storage.googleapis.com)... 173.194.76.128, 64.233.184.128, 64.233.167.128, ...\n",
            "Connecting to storage.googleapis.com (storage.googleapis.com)|173.194.76.128|:443... connected.\n",
            "HTTP request sent, awaiting response... 200 OK\n",
            "Length: 347116733 (331M) [text/plain]\n",
            "Saving to: ‘/tmp/glove.6B.100d.txt’\n",
            "\n",
            "/tmp/glove.6B.100d. 100%[===================>] 331.04M   219MB/s    in 1.5s    \n",
            "\n",
            "2020-07-11 12:11:48 (219 MB/s) - ‘/tmp/glove.6B.100d.txt’ saved [347116733/347116733]\n",
            "\n"
          ],
          "name": "stdout"
        }
      ]
    },
    {
      "cell_type": "code",
      "metadata": {
        "colab_type": "code",
        "id": "71NLk_lpFLNt",
        "colab": {
          "base_uri": "https://localhost:8080/",
          "height": 34
        },
        "outputId": "e8b03baa-9975-40c8-8e19-8921597e7a2c"
      },
      "source": [
        "print(len(embeddings_matrix))\n",
        "# Expected Output\n",
        "# 138859"
      ],
      "execution_count": 7,
      "outputs": [
        {
          "output_type": "stream",
          "text": [
            "138569\n"
          ],
          "name": "stdout"
        }
      ]
    },
    {
      "cell_type": "code",
      "metadata": {
        "colab_type": "code",
        "id": "iKKvbuEBOGFz",
        "colab": {
          "base_uri": "https://localhost:8080/",
          "height": 1000
        },
        "outputId": "ae7b51db-4ec0-4b67-d01e-20097884efbe"
      },
      "source": [
        "model = tf.keras.Sequential([\n",
        "    tf.keras.layers.Embedding(vocab_size+1, embedding_dim, input_length=max_length, weights=[embeddings_matrix], trainable=False),\n",
        "    tf.keras.layers.Dropout(0.2),\n",
        "    tf.keras.layers.Conv1D(64, 5, activation='relu'),\n",
        "    tf.keras.layers.MaxPooling1D(pool_size=4),\n",
        "    tf.keras.layers.LSTM(64),\n",
        "    tf.keras.layers.Dense(1, activation='sigmoid')\n",
        "])\n",
        "model.compile(loss='binary_crossentropy',optimizer='adam',metrics=['accuracy'])\n",
        "model.summary()\n",
        "\n",
        "num_epochs = 50\n",
        "\n",
        "training_padded = np.array(training_sequences)\n",
        "training_labels = np.array(training_labels)\n",
        "testing_padded = np.array(test_sequences)\n",
        "testing_labels = np.array(test_labels)\n",
        "\n",
        "history = model.fit(training_padded, training_labels, epochs=num_epochs, validation_data=(testing_padded, testing_labels), verbose=2)\n",
        "\n",
        "print(\"Training Complete\")"
      ],
      "execution_count": 8,
      "outputs": [
        {
          "output_type": "stream",
          "text": [
            "Model: \"sequential\"\n",
            "_________________________________________________________________\n",
            "Layer (type)                 Output Shape              Param #   \n",
            "=================================================================\n",
            "embedding (Embedding)        (None, 16, 100)           13856900  \n",
            "_________________________________________________________________\n",
            "dropout (Dropout)            (None, 16, 100)           0         \n",
            "_________________________________________________________________\n",
            "conv1d (Conv1D)              (None, 12, 64)            32064     \n",
            "_________________________________________________________________\n",
            "max_pooling1d (MaxPooling1D) (None, 3, 64)             0         \n",
            "_________________________________________________________________\n",
            "lstm (LSTM)                  (None, 64)                33024     \n",
            "_________________________________________________________________\n",
            "dense (Dense)                (None, 1)                 65        \n",
            "=================================================================\n",
            "Total params: 13,922,053\n",
            "Trainable params: 65,153\n",
            "Non-trainable params: 13,856,900\n",
            "_________________________________________________________________\n",
            "Epoch 1/50\n",
            "4500/4500 - 21s - loss: 0.5662 - accuracy: 0.7002 - val_loss: 0.5300 - val_accuracy: 0.7303\n",
            "Epoch 2/50\n",
            "4500/4500 - 20s - loss: 0.5275 - accuracy: 0.7313 - val_loss: 0.5133 - val_accuracy: 0.7433\n",
            "Epoch 3/50\n",
            "4500/4500 - 20s - loss: 0.5106 - accuracy: 0.7437 - val_loss: 0.5058 - val_accuracy: 0.7461\n",
            "Epoch 4/50\n",
            "4500/4500 - 20s - loss: 0.4998 - accuracy: 0.7502 - val_loss: 0.5039 - val_accuracy: 0.7481\n",
            "Epoch 5/50\n",
            "4500/4500 - 20s - loss: 0.4904 - accuracy: 0.7570 - val_loss: 0.4997 - val_accuracy: 0.7504\n",
            "Epoch 6/50\n",
            "4500/4500 - 20s - loss: 0.4842 - accuracy: 0.7624 - val_loss: 0.5043 - val_accuracy: 0.7529\n",
            "Epoch 7/50\n",
            "4500/4500 - 21s - loss: 0.4789 - accuracy: 0.7650 - val_loss: 0.5043 - val_accuracy: 0.7504\n",
            "Epoch 8/50\n",
            "4500/4500 - 20s - loss: 0.4736 - accuracy: 0.7679 - val_loss: 0.5075 - val_accuracy: 0.7446\n",
            "Epoch 9/50\n",
            "4500/4500 - 20s - loss: 0.4685 - accuracy: 0.7711 - val_loss: 0.5028 - val_accuracy: 0.7508\n",
            "Epoch 10/50\n",
            "4500/4500 - 20s - loss: 0.4647 - accuracy: 0.7733 - val_loss: 0.5050 - val_accuracy: 0.7512\n",
            "Epoch 11/50\n",
            "4500/4500 - 20s - loss: 0.4603 - accuracy: 0.7757 - val_loss: 0.5017 - val_accuracy: 0.7496\n",
            "Epoch 12/50\n",
            "4500/4500 - 20s - loss: 0.4582 - accuracy: 0.7780 - val_loss: 0.5030 - val_accuracy: 0.7564\n",
            "Epoch 13/50\n",
            "4500/4500 - 21s - loss: 0.4545 - accuracy: 0.7801 - val_loss: 0.5059 - val_accuracy: 0.7485\n",
            "Epoch 14/50\n",
            "4500/4500 - 20s - loss: 0.4516 - accuracy: 0.7818 - val_loss: 0.5082 - val_accuracy: 0.7492\n",
            "Epoch 15/50\n",
            "4500/4500 - 20s - loss: 0.4498 - accuracy: 0.7834 - val_loss: 0.5072 - val_accuracy: 0.7508\n",
            "Epoch 16/50\n",
            "4500/4500 - 20s - loss: 0.4487 - accuracy: 0.7836 - val_loss: 0.5141 - val_accuracy: 0.7535\n",
            "Epoch 17/50\n",
            "4500/4500 - 20s - loss: 0.4481 - accuracy: 0.7837 - val_loss: 0.5099 - val_accuracy: 0.7523\n",
            "Epoch 18/50\n",
            "4500/4500 - 20s - loss: 0.4448 - accuracy: 0.7862 - val_loss: 0.5100 - val_accuracy: 0.7499\n",
            "Epoch 19/50\n",
            "4500/4500 - 20s - loss: 0.4434 - accuracy: 0.7879 - val_loss: 0.5111 - val_accuracy: 0.7552\n",
            "Epoch 20/50\n",
            "4500/4500 - 20s - loss: 0.4424 - accuracy: 0.7869 - val_loss: 0.5102 - val_accuracy: 0.7493\n",
            "Epoch 21/50\n",
            "4500/4500 - 20s - loss: 0.4427 - accuracy: 0.7869 - val_loss: 0.5078 - val_accuracy: 0.7542\n",
            "Epoch 22/50\n",
            "4500/4500 - 20s - loss: 0.4403 - accuracy: 0.7886 - val_loss: 0.5102 - val_accuracy: 0.7536\n",
            "Epoch 23/50\n",
            "4500/4500 - 21s - loss: 0.4387 - accuracy: 0.7887 - val_loss: 0.5162 - val_accuracy: 0.7490\n",
            "Epoch 24/50\n",
            "4500/4500 - 20s - loss: 0.4395 - accuracy: 0.7893 - val_loss: 0.5075 - val_accuracy: 0.7523\n",
            "Epoch 25/50\n",
            "4500/4500 - 20s - loss: 0.4374 - accuracy: 0.7903 - val_loss: 0.5095 - val_accuracy: 0.7514\n",
            "Epoch 26/50\n",
            "4500/4500 - 20s - loss: 0.4356 - accuracy: 0.7908 - val_loss: 0.5084 - val_accuracy: 0.7501\n",
            "Epoch 27/50\n",
            "4500/4500 - 20s - loss: 0.4350 - accuracy: 0.7914 - val_loss: 0.5150 - val_accuracy: 0.7489\n",
            "Epoch 28/50\n",
            "4500/4500 - 20s - loss: 0.4350 - accuracy: 0.7917 - val_loss: 0.5130 - val_accuracy: 0.7494\n",
            "Epoch 29/50\n",
            "4500/4500 - 20s - loss: 0.4346 - accuracy: 0.7916 - val_loss: 0.5150 - val_accuracy: 0.7483\n",
            "Epoch 30/50\n",
            "4500/4500 - 20s - loss: 0.4342 - accuracy: 0.7932 - val_loss: 0.5171 - val_accuracy: 0.7492\n",
            "Epoch 31/50\n",
            "4500/4500 - 20s - loss: 0.4334 - accuracy: 0.7927 - val_loss: 0.5174 - val_accuracy: 0.7476\n",
            "Epoch 32/50\n",
            "4500/4500 - 20s - loss: 0.4319 - accuracy: 0.7928 - val_loss: 0.5187 - val_accuracy: 0.7463\n",
            "Epoch 33/50\n",
            "4500/4500 - 20s - loss: 0.4325 - accuracy: 0.7928 - val_loss: 0.5179 - val_accuracy: 0.7505\n",
            "Epoch 34/50\n",
            "4500/4500 - 20s - loss: 0.4320 - accuracy: 0.7936 - val_loss: 0.5160 - val_accuracy: 0.7495\n",
            "Epoch 35/50\n",
            "4500/4500 - 20s - loss: 0.4313 - accuracy: 0.7947 - val_loss: 0.5151 - val_accuracy: 0.7491\n",
            "Epoch 36/50\n",
            "4500/4500 - 20s - loss: 0.4297 - accuracy: 0.7960 - val_loss: 0.5205 - val_accuracy: 0.7471\n",
            "Epoch 37/50\n",
            "4500/4500 - 20s - loss: 0.4317 - accuracy: 0.7944 - val_loss: 0.5178 - val_accuracy: 0.7531\n",
            "Epoch 38/50\n",
            "4500/4500 - 21s - loss: 0.4310 - accuracy: 0.7938 - val_loss: 0.5208 - val_accuracy: 0.7479\n",
            "Epoch 39/50\n",
            "4500/4500 - 20s - loss: 0.4303 - accuracy: 0.7938 - val_loss: 0.5183 - val_accuracy: 0.7505\n",
            "Epoch 40/50\n",
            "4500/4500 - 20s - loss: 0.4306 - accuracy: 0.7943 - val_loss: 0.5191 - val_accuracy: 0.7509\n",
            "Epoch 41/50\n",
            "4500/4500 - 20s - loss: 0.4283 - accuracy: 0.7953 - val_loss: 0.5201 - val_accuracy: 0.7508\n",
            "Epoch 42/50\n",
            "4500/4500 - 20s - loss: 0.4278 - accuracy: 0.7960 - val_loss: 0.5208 - val_accuracy: 0.7508\n",
            "Epoch 43/50\n",
            "4500/4500 - 21s - loss: 0.4284 - accuracy: 0.7954 - val_loss: 0.5197 - val_accuracy: 0.7471\n",
            "Epoch 44/50\n",
            "4500/4500 - 20s - loss: 0.4286 - accuracy: 0.7962 - val_loss: 0.5237 - val_accuracy: 0.7444\n",
            "Epoch 45/50\n",
            "4500/4500 - 20s - loss: 0.4267 - accuracy: 0.7978 - val_loss: 0.5201 - val_accuracy: 0.7480\n",
            "Epoch 46/50\n",
            "4500/4500 - 20s - loss: 0.4275 - accuracy: 0.7966 - val_loss: 0.5159 - val_accuracy: 0.7438\n",
            "Epoch 47/50\n",
            "4500/4500 - 20s - loss: 0.4283 - accuracy: 0.7966 - val_loss: 0.5224 - val_accuracy: 0.7461\n",
            "Epoch 48/50\n",
            "4500/4500 - 20s - loss: 0.4260 - accuracy: 0.7968 - val_loss: 0.5185 - val_accuracy: 0.7488\n",
            "Epoch 49/50\n",
            "4500/4500 - 20s - loss: 0.4257 - accuracy: 0.7985 - val_loss: 0.5159 - val_accuracy: 0.7517\n",
            "Epoch 50/50\n",
            "4500/4500 - 20s - loss: 0.4260 - accuracy: 0.7980 - val_loss: 0.5200 - val_accuracy: 0.7483\n",
            "Training Complete\n"
          ],
          "name": "stdout"
        }
      ]
    },
    {
      "cell_type": "code",
      "metadata": {
        "colab_type": "code",
        "id": "qxju4ItJKO8F",
        "colab": {
          "base_uri": "https://localhost:8080/",
          "height": 608
        },
        "outputId": "32cb698b-fa17-45ff-812f-9617abe6c3da"
      },
      "source": [
        "import matplotlib.image  as mpimg\n",
        "import matplotlib.pyplot as plt\n",
        "\n",
        "#-----------------------------------------------------------\n",
        "# Retrieve a list of list results on training and test data\n",
        "# sets for each training epoch\n",
        "#-----------------------------------------------------------\n",
        "acc=history.history['accuracy']\n",
        "val_acc=history.history['val_accuracy']\n",
        "loss=history.history['loss']\n",
        "val_loss=history.history['val_loss']\n",
        "\n",
        "epochs=range(len(acc)) # Get number of epochs\n",
        "\n",
        "#------------------------------------------------\n",
        "# Plot training and validation accuracy per epoch\n",
        "#------------------------------------------------\n",
        "plt.plot(epochs, acc, 'r')\n",
        "plt.plot(epochs, val_acc, 'b')\n",
        "plt.title('Training and validation accuracy')\n",
        "plt.xlabel(\"Epochs\")\n",
        "plt.ylabel(\"Accuracy\")\n",
        "plt.legend([\"Accuracy\", \"Validation Accuracy\"])\n",
        "\n",
        "plt.figure()\n",
        "\n",
        "#------------------------------------------------\n",
        "# Plot training and validation loss per epoch\n",
        "#------------------------------------------------\n",
        "plt.plot(epochs, loss, 'r')\n",
        "plt.plot(epochs, val_loss, 'b')\n",
        "plt.title('Training and validation loss')\n",
        "plt.xlabel(\"Epochs\")\n",
        "plt.ylabel(\"Loss\")\n",
        "plt.legend([\"Loss\", \"Validation Loss\"])\n",
        "\n",
        "plt.figure()\n",
        "\n",
        "\n",
        "# Expected Output\n",
        "# A chart where the validation loss does not increase sharply!"
      ],
      "execution_count": 9,
      "outputs": [
        {
          "output_type": "execute_result",
          "data": {
            "text/plain": [
              "<Figure size 432x288 with 0 Axes>"
            ]
          },
          "metadata": {
            "tags": []
          },
          "execution_count": 9
        },
        {
          "output_type": "display_data",
          "data": {
            "image/png": "[encoded data removed]",
            "text/plain": [
              "<Figure size 432x288 with 1 Axes>"
            ]
          },
          "metadata": {
            "tags": [],
            "needs_background": "light"
          }
        },
        {
          "output_type": "display_data",
          "data": {
            "image/png": "[encoded data removed]",
            "text/plain": [
              "<Figure size 432x288 with 1 Axes>"
            ]
          },
          "metadata": {
            "tags": [],
            "needs_background": "light"
          }
        },
        {
          "output_type": "display_data",
          "data": {
            "text/plain": [
              "<Figure size 432x288 with 0 Axes>"
            ]
          },
          "metadata": {
            "tags": []
          }
        }
      ]
    },
    {
      "cell_type": "code",
      "metadata": {
        "id": "2PjQgTaf2e5E",
        "colab_type": "code",
        "colab": {}
      },
      "source": [
        ""
      ],
      "execution_count": null,
      "outputs": []
    }
  ]
}