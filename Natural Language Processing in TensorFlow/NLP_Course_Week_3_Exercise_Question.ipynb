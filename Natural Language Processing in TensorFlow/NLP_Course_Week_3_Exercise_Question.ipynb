{
  "nbformat": 4,
  "nbformat_minor": 0,
  "metadata": {
    "accelerator": "GPU",
    "colab": {
      "name": "NLP Course - Week 3 Exercise Question.ipynb",
      "provenance": [],
      "toc_visible": true
    },
    "kernelspec": {
      "display_name": "Python 3",
      "name": "python3"
    }
  },
  "cells": [
    {
      "cell_type": "code",
      "metadata": {
        "id": "zX4Kg8DUTKWO",
        "colab_type": "code",
        "colab": {}
      },
      "source": [
        "#@title Licensed under the Apache License, Version 2.0 (the \"License\");\n",
        "# you may not use this file except in compliance with the License.\n",
        "# You may obtain a copy of the License at\n",
        "#\n",
        "# https://www.apache.org/licenses/LICENSE-2.0\n",
        "#\n",
        "# Unless required by applicable law or agreed to in writing, software\n",
        "# distributed under the License is distributed on an \"AS IS\" BASIS,\n",
        "# WITHOUT WARRANTIES OR CONDITIONS OF ANY KIND, either express or implied.\n",
        "# See the License for the specific language governing permissions and\n",
        "# limitations under the License."
      ],
      "execution_count": null,
      "outputs": []
    },
    {
      "cell_type": "code",
      "metadata": {
        "colab_type": "code",
        "id": "hmA6EzkQJ5jt",
        "colab": {}
      },
      "source": [
        "import json\n",
        "import tensorflow as tf\n",
        "import csv\n",
        "import random\n",
        "import numpy as np\n",
        "\n",
        "from tensorflow.keras.preprocessing.text import Tokenizer\n",
        "from tensorflow.keras.preprocessing.sequence import pad_sequences\n",
        "from tensorflow.keras.utils import to_categorical\n",
        "from tensorflow.keras import regularizers\n",
        "\n",
        "\n",
        "embedding_dim = 100\n",
        "max_length = 16\n",
        "trunc_type='post'\n",
        "padding_type='post'\n",
        "oov_tok = \"<OOV>\"\n",
        "training_size=16000 #Your dataset size here. Experiment using smaller values (i.e. 16000), but don't forget to train on at least 160000 to see the best effects\n",
        "test_portion=.1\n",
        "\n",
        "corpus = []\n"
      ],
      "execution_count": 9,
      "outputs": []
    },
    {
      "cell_type": "code",
      "metadata": {
        "colab_type": "code",
        "id": "bM0l_dORKqE0",
        "colab": {
          "base_uri": "https://localhost:8080/",
          "height": 210
        },
        "outputId": "39af0f42-2288-45db-83d7-69c171abd3a3"
      },
      "source": [
        "# Note that I cleaned the Stanford dataset to remove LATIN1 encoding to make it easier for Python CSV reader\n",
        "# You can do that yourself with:\n",
        "# iconv -f LATIN1 -t UTF8 training.1600000.processed.noemoticon.csv -o training_cleaned.csv\n",
        "# I then hosted it on my site to make it easier to use in this notebook\n",
        "\n",
        "!wget --no-check-certificate \\\n",
        "    https://storage.googleapis.com/laurencemoroney-blog.appspot.com/training_cleaned.csv \\\n",
        "    -O /tmp/training_cleaned.csv\n",
        "\n",
        "num_sentences = 0\n",
        "\n",
        "with open(\"/tmp/training_cleaned.csv\") as csvfile:\n",
        "    reader = csv.reader(csvfile, delimiter=',')\n",
        "    for row in reader:\n",
        "      list_item=[]\n",
        "      list_item.append(row[5])\n",
        "      this_label=row[0]\n",
        "      if this_label=='0':\n",
        "          list_item.append(0)\n",
        "      else:\n",
        "          list_item.append(1)\n",
        "      num_sentences = num_sentences + 1\n",
        "      corpus.append(list_item)\n"
      ],
      "execution_count": 10,
      "outputs": [
        {
          "output_type": "stream",
          "text": [
            "--2020-07-11 12:03:52--  https://storage.googleapis.com/laurencemoroney-blog.appspot.com/training_cleaned.csv\n",
            "Resolving storage.googleapis.com (storage.googleapis.com)... 173.194.69.128, 108.177.119.128, 108.177.126.128, ...\n",
            "Connecting to storage.googleapis.com (storage.googleapis.com)|173.194.69.128|:443... connected.\n",
            "HTTP request sent, awaiting response... 200 OK\n",
            "Length: 238942690 (228M) [application/octet-stream]\n",
            "Saving to: ‘/tmp/training_cleaned.csv’\n",
            "\n",
            "/tmp/training_clean 100%[===================>] 227.87M   166MB/s    in 1.4s    \n",
            "\n",
            "2020-07-11 12:03:54 (166 MB/s) - ‘/tmp/training_cleaned.csv’ saved [238942690/238942690]\n",
            "\n"
          ],
          "name": "stdout"
        }
      ]
    },
    {
      "cell_type": "code",
      "metadata": {
        "colab_type": "code",
        "id": "3kxblBUjEUX-",
        "colab": {
          "base_uri": "https://localhost:8080/",
          "height": 70
        },
        "outputId": "0bba2fc8-be17-4dc8-802b-b9d6677075e6"
      },
      "source": [
        "print(num_sentences)\n",
        "print(len(corpus))\n",
        "print(corpus[1])\n",
        "\n",
        "# Expected Output:\n",
        "# 1600000\n",
        "# 1600000\n",
        "# [\"is upset that he can't update his Facebook by texting it... and might cry as a result  School today also. Blah!\", 0]"
      ],
      "execution_count": 11,
      "outputs": [
        {
          "output_type": "stream",
          "text": [
            "1600000\n",
            "1600000\n",
            "[\"is upset that he can't update his Facebook by texting it... and might cry as a result  School today also. Blah!\", 0]\n"
          ],
          "name": "stdout"
        }
      ]
    },
    {
      "cell_type": "code",
      "metadata": {
        "colab_type": "code",
        "id": "ohOGz24lsNAD",
        "colab": {}
      },
      "source": [
        "sentences=[]\n",
        "labels=[]\n",
        "random.shuffle(corpus)\n",
        "for x in range(training_size):\n",
        "    sentences.append(corpus[x][0])\n",
        "    labels.append(corpus[x][1])\n",
        "\n",
        "\n",
        "tokenizer = Tokenizer()\n",
        "tokenizer.fit_on_texts(sentences)\n",
        "\n",
        "word_index = tokenizer.word_index\n",
        "vocab_size=len(word_index)\n",
        "\n",
        "sequences = tokenizer.texts_to_sequences(sentences)\n",
        "padded = pad_sequences(sequences, maxlen=max_length, padding=padding_type, truncating=trunc_type)\n",
        "\n",
        "split = int(test_portion * training_size)\n",
        "\n",
        "test_sequences = padded[0:split]\n",
        "training_sequences = padded[split:training_size]\n",
        "test_labels = labels[0:split]\n",
        "training_labels = labels[split:training_size]"
      ],
      "execution_count": 12,
      "outputs": []
    },
    {
      "cell_type": "code",
      "metadata": {
        "colab_type": "code",
        "id": "gIrtRem1En3N",
        "colab": {
          "base_uri": "https://localhost:8080/",
          "height": 52
        },
        "outputId": "f463c9bc-cc34-4c12-db5c-f10139ab5336"
      },
      "source": [
        "print(vocab_size)\n",
        "print(word_index['i'])\n",
        "# Expected Output\n",
        "# 138858\n",
        "# 1"
      ],
      "execution_count": 13,
      "outputs": [
        {
          "output_type": "stream",
          "text": [
            "26607\n",
            "1\n"
          ],
          "name": "stdout"
        }
      ]
    },
    {
      "cell_type": "code",
      "metadata": {
        "colab_type": "code",
        "id": "C1zdgJkusRh0",
        "colab": {
          "base_uri": "https://localhost:8080/",
          "height": 210
        },
        "outputId": "724bb063-6d10-422e-c121-c673aa2d71cc"
      },
      "source": [
        "# Note this is the 100 dimension version of GloVe from Stanford\n",
        "# I unzipped and hosted it on my site to make this notebook easier\n",
        "!wget --no-check-certificate \\\n",
        "    https://storage.googleapis.com/laurencemoroney-blog.appspot.com/glove.6B.100d.txt \\\n",
        "    -O /tmp/glove.6B.100d.txt\n",
        "embeddings_index = {};\n",
        "with open('/tmp/glove.6B.100d.txt') as f:\n",
        "    for line in f:\n",
        "        values = line.split();\n",
        "        word = values[0];\n",
        "        coefs = np.asarray(values[1:], dtype='float32');\n",
        "        embeddings_index[word] = coefs;\n",
        "\n",
        "embeddings_matrix = np.zeros((vocab_size+1, embedding_dim));\n",
        "for word, i in word_index.items():\n",
        "    embedding_vector = embeddings_index.get(word);\n",
        "    if embedding_vector is not None:\n",
        "        embeddings_matrix[i] = embedding_vector;"
      ],
      "execution_count": 14,
      "outputs": [
        {
          "output_type": "stream",
          "text": [
            "--2020-07-11 12:04:17--  https://storage.googleapis.com/laurencemoroney-blog.appspot.com/glove.6B.100d.txt\n",
            "Resolving storage.googleapis.com (storage.googleapis.com)... 108.177.126.128, 74.125.143.128, 108.177.119.128, ...\n",
            "Connecting to storage.googleapis.com (storage.googleapis.com)|108.177.126.128|:443... connected.\n",
            "HTTP request sent, awaiting response... 200 OK\n",
            "Length: 347116733 (331M) [text/plain]\n",
            "Saving to: ‘/tmp/glove.6B.100d.txt’\n",
            "\n",
            "/tmp/glove.6B.100d. 100%[===================>] 331.04M  89.1MB/s    in 3.7s    \n",
            "\n",
            "2020-07-11 12:04:21 (89.1 MB/s) - ‘/tmp/glove.6B.100d.txt’ saved [347116733/347116733]\n",
            "\n"
          ],
          "name": "stdout"
        }
      ]
    },
    {
      "cell_type": "code",
      "metadata": {
        "colab_type": "code",
        "id": "71NLk_lpFLNt",
        "colab": {
          "base_uri": "https://localhost:8080/",
          "height": 34
        },
        "outputId": "073be5df-a047-4893-efdd-6287bcf81936"
      },
      "source": [
        "print(len(embeddings_matrix))\n",
        "# Expected Output\n",
        "# 138859"
      ],
      "execution_count": 15,
      "outputs": [
        {
          "output_type": "stream",
          "text": [
            "26608\n"
          ],
          "name": "stdout"
        }
      ]
    },
    {
      "cell_type": "code",
      "metadata": {
        "colab_type": "code",
        "id": "iKKvbuEBOGFz",
        "colab": {
          "base_uri": "https://localhost:8080/",
          "height": 1000
        },
        "outputId": "53abdde8-3de5-4fac-f775-0795d2a8641d"
      },
      "source": [
        "model = tf.keras.Sequential([\n",
        "    tf.keras.layers.Embedding(vocab_size+1, embedding_dim, input_length=max_length, weights=[embeddings_matrix], trainable=False),\n",
        "    tf.keras.layers.Dropout(0.2),\n",
        "    tf.keras.layers.Conv1D(64, 5, activation='relu'),\n",
        "    tf.keras.layers.MaxPooling1D(pool_size=4),\n",
        "    tf.keras.layers.LSTM(64),\n",
        "    tf.keras.layers.Dense(1, activation='sigmoid')\n",
        "])\n",
        "model.compile(loss='binary_crossentropy',optimizer='adam',metrics=['accuracy'])\n",
        "model.summary()\n",
        "\n",
        "num_epochs = 50\n",
        "\n",
        "training_padded = np.array(training_sequences)\n",
        "training_labels = np.array(training_labels)\n",
        "testing_padded = np.array(test_sequences)\n",
        "testing_labels = np.array(test_labels)\n",
        "\n",
        "history = model.fit(training_padded, training_labels, epochs=num_epochs, validation_data=(testing_padded, testing_labels), verbose=2)\n",
        "\n",
        "print(\"Training Complete\")\n"
      ],
      "execution_count": 16,
      "outputs": [
        {
          "output_type": "stream",
          "text": [
            "Model: \"sequential\"\n",
            "_________________________________________________________________\n",
            "Layer (type)                 Output Shape              Param #   \n",
            "=================================================================\n",
            "embedding (Embedding)        (None, 16, 100)           2660800   \n",
            "_________________________________________________________________\n",
            "dropout (Dropout)            (None, 16, 100)           0         \n",
            "_________________________________________________________________\n",
            "conv1d (Conv1D)              (None, 12, 64)            32064     \n",
            "_________________________________________________________________\n",
            "max_pooling1d (MaxPooling1D) (None, 3, 64)             0         \n",
            "_________________________________________________________________\n",
            "lstm (LSTM)                  (None, 64)                33024     \n",
            "_________________________________________________________________\n",
            "dense (Dense)                (None, 1)                 65        \n",
            "=================================================================\n",
            "Total params: 2,725,953\n",
            "Trainable params: 65,153\n",
            "Non-trainable params: 2,660,800\n",
            "_________________________________________________________________\n",
            "Epoch 1/50\n",
            "450/450 - 2s - loss: 0.6324 - accuracy: 0.6363 - val_loss: 0.5936 - val_accuracy: 0.6781\n",
            "Epoch 2/50\n",
            "450/450 - 2s - loss: 0.5747 - accuracy: 0.6952 - val_loss: 0.5805 - val_accuracy: 0.6831\n",
            "Epoch 3/50\n",
            "450/450 - 2s - loss: 0.5468 - accuracy: 0.7152 - val_loss: 0.5738 - val_accuracy: 0.6888\n",
            "Epoch 4/50\n",
            "450/450 - 2s - loss: 0.5204 - accuracy: 0.7364 - val_loss: 0.5607 - val_accuracy: 0.6963\n",
            "Epoch 5/50\n",
            "450/450 - 2s - loss: 0.4859 - accuracy: 0.7626 - val_loss: 0.5720 - val_accuracy: 0.6938\n",
            "Epoch 6/50\n",
            "450/450 - 2s - loss: 0.4596 - accuracy: 0.7801 - val_loss: 0.5983 - val_accuracy: 0.7131\n",
            "Epoch 7/50\n",
            "450/450 - 2s - loss: 0.4374 - accuracy: 0.7933 - val_loss: 0.6068 - val_accuracy: 0.7031\n",
            "Epoch 8/50\n",
            "450/450 - 2s - loss: 0.4166 - accuracy: 0.8035 - val_loss: 0.6396 - val_accuracy: 0.6837\n",
            "Epoch 9/50\n",
            "450/450 - 2s - loss: 0.3927 - accuracy: 0.8196 - val_loss: 0.6157 - val_accuracy: 0.6925\n",
            "Epoch 10/50\n",
            "450/450 - 2s - loss: 0.3745 - accuracy: 0.8301 - val_loss: 0.6283 - val_accuracy: 0.6831\n",
            "Epoch 11/50\n",
            "450/450 - 2s - loss: 0.3646 - accuracy: 0.8338 - val_loss: 0.6375 - val_accuracy: 0.6906\n",
            "Epoch 12/50\n",
            "450/450 - 2s - loss: 0.3389 - accuracy: 0.8482 - val_loss: 0.6800 - val_accuracy: 0.6881\n",
            "Epoch 13/50\n",
            "450/450 - 2s - loss: 0.3299 - accuracy: 0.8526 - val_loss: 0.6977 - val_accuracy: 0.6750\n",
            "Epoch 14/50\n",
            "450/450 - 2s - loss: 0.3221 - accuracy: 0.8578 - val_loss: 0.6765 - val_accuracy: 0.6950\n",
            "Epoch 15/50\n",
            "450/450 - 2s - loss: 0.3086 - accuracy: 0.8644 - val_loss: 0.7386 - val_accuracy: 0.6800\n",
            "Epoch 16/50\n",
            "450/450 - 2s - loss: 0.2973 - accuracy: 0.8676 - val_loss: 0.7186 - val_accuracy: 0.6806\n",
            "Epoch 17/50\n",
            "450/450 - 2s - loss: 0.2840 - accuracy: 0.8758 - val_loss: 0.7364 - val_accuracy: 0.6944\n",
            "Epoch 18/50\n",
            "450/450 - 2s - loss: 0.2770 - accuracy: 0.8792 - val_loss: 0.7180 - val_accuracy: 0.6913\n",
            "Epoch 19/50\n",
            "450/450 - 2s - loss: 0.2644 - accuracy: 0.8894 - val_loss: 0.7629 - val_accuracy: 0.6781\n",
            "Epoch 20/50\n",
            "450/450 - 2s - loss: 0.2598 - accuracy: 0.8903 - val_loss: 0.7704 - val_accuracy: 0.6856\n",
            "Epoch 21/50\n",
            "450/450 - 2s - loss: 0.2518 - accuracy: 0.8932 - val_loss: 0.7605 - val_accuracy: 0.6850\n",
            "Epoch 22/50\n",
            "450/450 - 2s - loss: 0.2437 - accuracy: 0.8961 - val_loss: 0.8170 - val_accuracy: 0.6919\n",
            "Epoch 23/50\n",
            "450/450 - 2s - loss: 0.2368 - accuracy: 0.9026 - val_loss: 0.8381 - val_accuracy: 0.6750\n",
            "Epoch 24/50\n",
            "450/450 - 2s - loss: 0.2321 - accuracy: 0.9019 - val_loss: 0.8519 - val_accuracy: 0.6894\n",
            "Epoch 25/50\n",
            "450/450 - 2s - loss: 0.2264 - accuracy: 0.9043 - val_loss: 0.8581 - val_accuracy: 0.6844\n",
            "Epoch 26/50\n",
            "450/450 - 1s - loss: 0.2242 - accuracy: 0.9071 - val_loss: 0.8990 - val_accuracy: 0.6806\n",
            "Epoch 27/50\n",
            "450/450 - 2s - loss: 0.2212 - accuracy: 0.9062 - val_loss: 0.9076 - val_accuracy: 0.6700\n",
            "Epoch 28/50\n",
            "450/450 - 1s - loss: 0.2103 - accuracy: 0.9119 - val_loss: 0.8810 - val_accuracy: 0.6794\n",
            "Epoch 29/50\n",
            "450/450 - 2s - loss: 0.2111 - accuracy: 0.9097 - val_loss: 0.8790 - val_accuracy: 0.6725\n",
            "Epoch 30/50\n",
            "450/450 - 2s - loss: 0.1991 - accuracy: 0.9192 - val_loss: 0.9338 - val_accuracy: 0.6725\n",
            "Epoch 31/50\n",
            "450/450 - 2s - loss: 0.2061 - accuracy: 0.9138 - val_loss: 0.8994 - val_accuracy: 0.6669\n",
            "Epoch 32/50\n",
            "450/450 - 1s - loss: 0.1940 - accuracy: 0.9231 - val_loss: 0.9389 - val_accuracy: 0.6781\n",
            "Epoch 33/50\n",
            "450/450 - 2s - loss: 0.1918 - accuracy: 0.9222 - val_loss: 0.9351 - val_accuracy: 0.6775\n",
            "Epoch 34/50\n",
            "450/450 - 1s - loss: 0.1916 - accuracy: 0.9218 - val_loss: 0.9556 - val_accuracy: 0.6794\n",
            "Epoch 35/50\n",
            "450/450 - 1s - loss: 0.1863 - accuracy: 0.9245 - val_loss: 1.0064 - val_accuracy: 0.6787\n",
            "Epoch 36/50\n",
            "450/450 - 1s - loss: 0.1800 - accuracy: 0.9279 - val_loss: 0.9811 - val_accuracy: 0.6775\n",
            "Epoch 37/50\n",
            "450/450 - 2s - loss: 0.1759 - accuracy: 0.9283 - val_loss: 1.0001 - val_accuracy: 0.6825\n",
            "Epoch 38/50\n",
            "450/450 - 2s - loss: 0.1739 - accuracy: 0.9297 - val_loss: 1.0014 - val_accuracy: 0.6762\n",
            "Epoch 39/50\n",
            "450/450 - 2s - loss: 0.1681 - accuracy: 0.9303 - val_loss: 0.9618 - val_accuracy: 0.6687\n",
            "Epoch 40/50\n",
            "450/450 - 2s - loss: 0.1771 - accuracy: 0.9278 - val_loss: 1.0274 - val_accuracy: 0.6756\n",
            "Epoch 41/50\n",
            "450/450 - 2s - loss: 0.1728 - accuracy: 0.9310 - val_loss: 1.0219 - val_accuracy: 0.6650\n",
            "Epoch 42/50\n",
            "450/450 - 2s - loss: 0.1671 - accuracy: 0.9334 - val_loss: 1.1073 - val_accuracy: 0.6669\n",
            "Epoch 43/50\n",
            "450/450 - 2s - loss: 0.1596 - accuracy: 0.9359 - val_loss: 1.0617 - val_accuracy: 0.6725\n",
            "Epoch 44/50\n",
            "450/450 - 1s - loss: 0.1643 - accuracy: 0.9349 - val_loss: 1.0349 - val_accuracy: 0.6762\n",
            "Epoch 45/50\n",
            "450/450 - 1s - loss: 0.1577 - accuracy: 0.9392 - val_loss: 1.0756 - val_accuracy: 0.6644\n",
            "Epoch 46/50\n",
            "450/450 - 2s - loss: 0.1479 - accuracy: 0.9417 - val_loss: 1.0521 - val_accuracy: 0.6644\n",
            "Epoch 47/50\n",
            "450/450 - 1s - loss: 0.1594 - accuracy: 0.9369 - val_loss: 1.0969 - val_accuracy: 0.6712\n",
            "Epoch 48/50\n",
            "450/450 - 2s - loss: 0.1558 - accuracy: 0.9386 - val_loss: 1.0639 - val_accuracy: 0.6712\n",
            "Epoch 49/50\n",
            "450/450 - 2s - loss: 0.1533 - accuracy: 0.9385 - val_loss: 1.0441 - val_accuracy: 0.6687\n",
            "Epoch 50/50\n",
            "450/450 - 2s - loss: 0.1442 - accuracy: 0.9450 - val_loss: 1.0661 - val_accuracy: 0.6706\n",
            "Training Complete\n"
          ],
          "name": "stdout"
        }
      ]
    },
    {
      "cell_type": "code",
      "metadata": {
        "colab_type": "code",
        "id": "qxju4ItJKO8F",
        "colab": {
          "base_uri": "https://localhost:8080/",
          "height": 608
        },
        "outputId": "34c2c8be-449d-4925-c8c9-9109351cccf6"
      },
      "source": [
        "import matplotlib.image  as mpimg\n",
        "import matplotlib.pyplot as plt\n",
        "\n",
        "#-----------------------------------------------------------\n",
        "# Retrieve a list of list results on training and test data\n",
        "# sets for each training epoch\n",
        "#-----------------------------------------------------------\n",
        "acc=history.history['accuracy']\n",
        "val_acc=history.history['val_accuracy']\n",
        "loss=history.history['loss']\n",
        "val_loss=history.history['val_loss']\n",
        "\n",
        "epochs=range(len(acc)) # Get number of epochs\n",
        "\n",
        "#------------------------------------------------\n",
        "# Plot training and validation accuracy per epoch\n",
        "#------------------------------------------------\n",
        "plt.plot(epochs, acc, 'r')\n",
        "plt.plot(epochs, val_acc, 'b')\n",
        "plt.title('Training and validation accuracy')\n",
        "plt.xlabel(\"Epochs\")\n",
        "plt.ylabel(\"Accuracy\")\n",
        "plt.legend([\"Accuracy\", \"Validation Accuracy\"])\n",
        "\n",
        "plt.figure()\n",
        "\n",
        "#------------------------------------------------\n",
        "# Plot training and validation loss per epoch\n",
        "#------------------------------------------------\n",
        "plt.plot(epochs, loss, 'r')\n",
        "plt.plot(epochs, val_loss, 'b')\n",
        "plt.title('Training and validation loss')\n",
        "plt.xlabel(\"Epochs\")\n",
        "plt.ylabel(\"Loss\")\n",
        "plt.legend([\"Loss\", \"Validation Loss\"])\n",
        "\n",
        "plt.figure()\n",
        "\n",
        "\n",
        "# Expected Output\n",
        "# A chart where the validation loss does not increase sharply!"
      ],
      "execution_count": 17,
      "outputs": [
        {
          "output_type": "execute_result",
          "data": {
            "text/plain": [
              "<Figure size 432x288 with 0 Axes>"
            ]
          },
          "metadata": {
            "tags": []
          },
          "execution_count": 17
        },
        {
          "output_type": "display_data",
          "data": {
            "image/png": "[encoded data removed]",
            "text/plain": [
              "<Figure size 432x288 with 1 Axes>"
            ]
          },
          "metadata": {
            "tags": [],
            "needs_background": "light"
          }
        },
        {
          "output_type": "display_data",
          "data": {
            "image/png": "[encoded data removed]",
            "text/plain": [
              "<Figure size 432x288 with 1 Axes>"
            ]
          },
          "metadata": {
            "tags": [],
            "needs_background": "light"
          }
        },
        {
          "output_type": "display_data",
          "data": {
            "text/plain": [
              "<Figure size 432x288 with 0 Axes>"
            ]
          },
          "metadata": {
            "tags": []
          }
        }
      ]
    },
    {
      "cell_type": "code",
      "metadata": {
        "id": "EqRCqKW4yDJx",
        "colab_type": "code",
        "colab": {}
      },
      "source": [
        ""
      ],
      "execution_count": null,
      "outputs": []
    }
  ]
}