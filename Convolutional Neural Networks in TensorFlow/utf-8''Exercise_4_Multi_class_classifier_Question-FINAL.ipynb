{
 "cells": [
  {
   "cell_type": "code",
   "execution_count": 1,
   "metadata": {
    "colab": {},
    "colab_type": "code",
    "id": "wYtuKeK0dImp"
   },
   "outputs": [],
   "source": [
    "# ATTENTION: Please do not alter any of the provided code in the exercise. Only add your own code where indicated\n",
    "# ATTENTION: Please do not add or remove any cells in the exercise. The grader will check specific cells based on the cell position.\n",
    "# ATTENTION: Please use the provided epoch values when training.\n",
    "\n",
    "import csv\n",
    "import numpy as np\n",
    "import tensorflow as tf\n",
    "from tensorflow.keras.preprocessing.image import ImageDataGenerator\n",
    "from os import getcwd"
   ]
  },
  {
   "cell_type": "code",
   "execution_count": 2,
   "metadata": {
    "colab": {},
    "colab_type": "code",
    "id": "4kxw-_rmcnVu"
   },
   "outputs": [
    {
     "name": "stdout",
     "output_type": "stream",
     "text": [
      "(27455, 28, 28)\n",
      "(27455,)\n",
      "(7172, 28, 28)\n",
      "(7172,)\n"
     ]
    }
   ],
   "source": [
    "def get_data(filename):\n",
    "  # You will need to write code that will read the file passed\n",
    "  # into this function. The first line contains the column headers\n",
    "  # so you should ignore it\n",
    "  # Each successive line contians 785 comma separated values between 0 and 255\n",
    "  # The first value is the label\n",
    "  # The rest are the pixel values for that picture\n",
    "  # The function will return 2 np.array types. One with all the labels\n",
    "  # One with all the images\n",
    "  #\n",
    "  # Tips: \n",
    "  # If you read a full line (as 'row') then row[0] has the label\n",
    "  # and row[1:785] has the 784 pixel values\n",
    "  # Take a look at np.array_split to turn the 784 pixels into 28x28\n",
    "  # You are reading in strings, but need the values to be floats\n",
    "  # Check out np.array().astype for a conversion\n",
    "    with open(filename) as training_file:\n",
    "        csv_reader = csv.reader(training_file, delimiter=',')\n",
    "        first_line = True\n",
    "        temp_images = []\n",
    "        temp_labels = []\n",
    "        for row in csv_reader:\n",
    "            if first_line:\n",
    "                first_line = False\n",
    "            else:\n",
    "                temp_labels.append(row[0])\n",
    "                image_data = row[1:785]\n",
    "                image_data_as_array = np.array_split(image_data, 28)\n",
    "                temp_images.append(image_data_as_array)\n",
    "        images = np.array(temp_images).astype('float')\n",
    "        labels = np.array(temp_labels).astype('float')\n",
    "    return images, labels\n",
    "\n",
    "path_sign_mnist_train = f\"{getcwd()}/../tmp2/sign_mnist_train.csv\"\n",
    "path_sign_mnist_test = f\"{getcwd()}/../tmp2/sign_mnist_test.csv\"\n",
    "training_images, training_labels = get_data(path_sign_mnist_train)\n",
    "testing_images, testing_labels = get_data(path_sign_mnist_test)\n",
    "\n",
    "# Keep these\n",
    "print(training_images.shape)\n",
    "print(training_labels.shape)\n",
    "print(testing_images.shape)\n",
    "print(testing_labels.shape)\n",
    "\n",
    "# Their output should be:\n",
    "# (27455, 28, 28)\n",
    "# (27455,)\n",
    "# (7172, 28, 28)\n",
    "# (7172,)"
   ]
  },
  {
   "cell_type": "code",
   "execution_count": 3,
   "metadata": {
    "colab": {},
    "colab_type": "code",
    "id": "awoqRpyZdQkD"
   },
   "outputs": [
    {
     "name": "stdout",
     "output_type": "stream",
     "text": [
      "(27455, 28, 28, 1)\n",
      "(7172, 28, 28, 1)\n"
     ]
    }
   ],
   "source": [
    "# In this section you will have to add another dimension to the data\n",
    "# So, for example, if your array is (10000, 28, 28)\n",
    "# You will need to make it (10000, 28, 28, 1)\n",
    "# Hint: np.expand_dims\n",
    "\n",
    "training_images = np.expand_dims(training_images, axis=3)\n",
    "testing_images = np.expand_dims(testing_images, axis=3)\n",
    "\n",
    "# Create an ImageDataGenerator and do Image Augmentation\n",
    "train_datagen = ImageDataGenerator(\n",
    "    rescale=1. / 255,\n",
    "    rotation_range=40,\n",
    "    width_shift_range=0.2,\n",
    "    height_shift_range=0.2,\n",
    "    shear_range=0.2,\n",
    "    zoom_range=0.2,\n",
    "    horizontal_flip=True,\n",
    "    fill_mode='nearest'\n",
    "    )\n",
    "\n",
    "validation_datagen = ImageDataGenerator(\n",
    "    rescale = 1./255)\n",
    "    \n",
    "# Keep These\n",
    "print(training_images.shape)\n",
    "print(testing_images.shape)\n",
    "    \n",
    "# Their output should be:\n",
    "# (27455, 28, 28, 1)\n",
    "# (7172, 28, 28, 1)"
   ]
  },
  {
   "cell_type": "code",
   "execution_count": null,
   "metadata": {
    "colab": {},
    "colab_type": "code",
    "id": "Rmb7S32cgRqS"
   },
   "outputs": [
    {
     "name": "stdout",
     "output_type": "stream",
     "text": [
      "Epoch 1/25\n",
      "858/857 [==============================] - 88s 103ms/step - loss: 3.1551 - acc: 0.0680 - val_loss: 3.0427 - val_acc: 0.1083\n",
      "Epoch 2/25\n",
      "858/857 [==============================] - 84s 98ms/step - loss: 2.9918 - acc: 0.1131 - val_loss: 2.7598 - val_acc: 0.1941\n",
      "Epoch 3/25\n",
      "858/857 [==============================] - 87s 101ms/step - loss: 2.8595 - acc: 0.1526 - val_loss: 2.5390 - val_acc: 0.2437\n",
      "Epoch 4/25\n",
      "858/857 [==============================] - 87s 101ms/step - loss: 2.7141 - acc: 0.1914 - val_loss: 2.2461 - val_acc: 0.3454\n",
      "Epoch 5/25\n",
      "858/857 [==============================] - 79s 93ms/step - loss: 2.5648 - acc: 0.2316 - val_loss: 2.0508 - val_acc: 0.4175\n",
      "Epoch 6/25\n",
      "858/857 [==============================] - 78s 91ms/step - loss: 2.4317 - acc: 0.2643 - val_loss: 1.9377 - val_acc: 0.4314\n",
      "Epoch 7/25\n",
      "858/857 [==============================] - 79s 92ms/step - loss: 2.3183 - acc: 0.2920 - val_loss: 1.9549 - val_acc: 0.3600\n",
      "Epoch 8/25\n",
      "858/857 [==============================] - 78s 91ms/step - loss: 2.2221 - acc: 0.3158 - val_loss: 1.8535 - val_acc: 0.3818\n",
      "Epoch 9/25\n",
      "858/857 [==============================] - 81s 94ms/step - loss: 2.1454 - acc: 0.3363 - val_loss: 1.8055 - val_acc: 0.4025\n",
      "Epoch 10/25\n",
      "858/857 [==============================] - 83s 97ms/step - loss: 2.0746 - acc: 0.3571 - val_loss: 1.7094 - val_acc: 0.4201\n",
      "Epoch 11/25\n",
      "858/857 [==============================] - 84s 98ms/step - loss: 2.0288 - acc: 0.3707 - val_loss: 1.8221 - val_acc: 0.3968\n",
      "Epoch 12/25\n",
      "858/857 [==============================] - 79s 92ms/step - loss: 1.9759 - acc: 0.3830 - val_loss: 1.5738 - val_acc: 0.4543\n",
      "Epoch 13/25\n",
      "858/857 [==============================] - 77s 89ms/step - loss: 1.9215 - acc: 0.4016 - val_loss: 1.5774 - val_acc: 0.4697\n",
      "Epoch 14/25\n",
      "858/857 [==============================] - 76s 88ms/step - loss: 1.8589 - acc: 0.4246 - val_loss: 1.4135 - val_acc: 0.5218\n",
      "Epoch 15/25\n",
      "858/857 [==============================] - 78s 91ms/step - loss: 1.8217 - acc: 0.4304 - val_loss: 1.3753 - val_acc: 0.5329\n",
      "Epoch 16/25\n",
      "858/857 [==============================] - 80s 93ms/step - loss: 1.7731 - acc: 0.4441 - val_loss: 1.4003 - val_acc: 0.5317\n",
      "Epoch 17/25\n",
      "858/857 [==============================] - 78s 91ms/step - loss: 1.7343 - acc: 0.4532 - val_loss: 1.1633 - val_acc: 0.6344\n",
      "Epoch 18/25\n",
      "858/857 [==============================] - 80s 93ms/step - loss: 1.6943 - acc: 0.4712 - val_loss: 1.1791 - val_acc: 0.6221\n",
      "Epoch 19/25\n",
      "858/857 [==============================] - 83s 97ms/step - loss: 1.6545 - acc: 0.4838 - val_loss: 1.0675 - val_acc: 0.6666\n",
      "Epoch 20/25\n",
      "858/857 [==============================] - 82s 96ms/step - loss: 1.6102 - acc: 0.4947 - val_loss: 1.0673 - val_acc: 0.6679\n",
      "Epoch 21/25\n",
      "858/857 [==============================] - 80s 93ms/step - loss: 1.5685 - acc: 0.5078 - val_loss: 1.1168 - val_acc: 0.6295\n",
      "Epoch 22/25\n",
      "858/857 [==============================] - 81s 94ms/step - loss: 1.5369 - acc: 0.5166 - val_loss: 1.0972 - val_acc: 0.6238\n",
      "Epoch 23/25\n",
      "858/857 [==============================] - 83s 97ms/step - loss: 1.5038 - acc: 0.5273 - val_loss: 0.9922 - val_acc: 0.6641\n",
      "Epoch 24/25\n",
      "857/857 [============================>.] - ETA: 0s - loss: 1.4660 - acc: 0.5385"
     ]
    }
   ],
   "source": [
    "# Define the model\n",
    "# Use no more than 2 Conv2D and 2 MaxPooling2D\n",
    "\n",
    "from tensorflow.keras.optimizers import RMSprop\n",
    "\n",
    "model = tf.keras.models.Sequential([\n",
    "    tf.keras.layers.Conv2D(64, (3, 3), activation='relu', input_shape=(28, 28, 1)),\n",
    "    tf.keras.layers.MaxPooling2D(2, 2),\n",
    "    tf.keras.layers.Conv2D(64, (3, 3), activation='relu'),\n",
    "    tf.keras.layers.MaxPooling2D(2, 2),\n",
    "    tf.keras.layers.Flatten(),\n",
    "    tf.keras.layers.Dense(128, activation='relu'),\n",
    "    tf.keras.layers.Dense(26, activation='softmax')\n",
    "])\n",
    "\n",
    "# Compile Model. \n",
    "model.compile(optimizer = RMSprop(lr = 0.0001),\n",
    "              loss = 'sparse_categorical_crossentropy',\n",
    "              metrics=['acc'])\n",
    "\n",
    "# Train the Model\n",
    "history = model.fit_generator(train_datagen.flow(training_images, training_labels, batch_size=32),\n",
    "                              steps_per_epoch=len(training_images) / 32,\n",
    "                              epochs=25,\n",
    "                              validation_data=validation_datagen.flow(testing_images, testing_labels, batch_size=32),\n",
    "                              validation_steps=len(testing_images) / 32)\n",
    "\n",
    "model.evaluate(testing_images, testing_labels, verbose=0)"
   ]
  },
  {
   "cell_type": "code",
   "execution_count": 9,
   "metadata": {
    "colab": {},
    "colab_type": "code",
    "id": "_Q3Zpr46dsij"
   },
   "outputs": [
    {
     "data": {
      "image/png": "[encoded data removed]",
      "text/plain": [
       "<Figure size 432x288 with 1 Axes>"
      ]
     },
     "metadata": {
      "needs_background": "light"
     },
     "output_type": "display_data"
    },
    {
     "data": {
      "image/png": "[encoded data removed]",
      "text/plain": [
       "<Figure size 432x288 with 1 Axes>"
      ]
     },
     "metadata": {
      "needs_background": "light"
     },
     "output_type": "display_data"
    }
   ],
   "source": [
    "# Plot the chart for accuracy and loss on both training and validation\n",
    "%matplotlib inline\n",
    "import matplotlib.pyplot as plt\n",
    "acc = history.history['acc']\n",
    "val_acc = history.history['val_acc']\n",
    "loss = history.history['loss']\n",
    "val_loss = history.history['val_loss']\n",
    "\n",
    "epochs = range(len(acc))\n",
    "\n",
    "plt.plot(epochs, acc, 'r', label='Training accuracy')\n",
    "plt.plot(epochs, val_acc, 'b', label='Validation accuracy')\n",
    "plt.title('Training and validation accuracy')\n",
    "plt.legend()\n",
    "plt.figure()\n",
    "\n",
    "plt.plot(epochs, loss, 'r', label='Training Loss')\n",
    "plt.plot(epochs, val_loss, 'b', label='Validation Loss')\n",
    "plt.title('Training and validation loss')\n",
    "plt.legend()\n",
    "\n",
    "plt.show()"
   ]
  },
  {
   "cell_type": "markdown",
   "metadata": {},
   "source": [
    "# Submission Instructions"
   ]
  },
  {
   "cell_type": "code",
   "execution_count": null,
   "metadata": {},
   "outputs": [],
   "source": [
    "# Now click the 'Submit Assignment' button above."
   ]
  },
  {
   "cell_type": "markdown",
   "metadata": {},
   "source": [
    "# When you're done or would like to take a break, please run the two cells below to save your work and close the Notebook. This will free up resources for your fellow learners. "
   ]
  },
  {
   "cell_type": "code",
   "execution_count": null,
   "metadata": {},
   "outputs": [],
   "source": [
    "%%javascript\n",
    "<!-- Save the notebook -->\n",
    "IPython.notebook.save_checkpoint();"
   ]
  },
  {
   "cell_type": "code",
   "execution_count": null,
   "metadata": {},
   "outputs": [],
   "source": [
    "%%javascript\n",
    "IPython.notebook.session.delete();\n",
    "window.onbeforeunload = null\n",
    "setTimeout(function() { window.close(); }, 1000);"
   ]
  }
 ],
 "metadata": {
  "colab": {
   "name": "Exercise 8 - Question.ipynb",
   "provenance": []
  },
  "coursera": {
   "course_slug": "convolutional-neural-networks-tensorflow",
   "graded_item_id": "8mIh8",
   "launcher_item_id": "gg95t"
  },
  "kernelspec": {
   "display_name": "Python 3",
   "language": "python",
   "name": "python3"
  },
  "language_info": {
   "codemirror_mode": {
    "name": "ipython",
    "version": 3
   },
   "file_extension": ".py",
   "mimetype": "text/x-python",
   "name": "python",
   "nbconvert_exporter": "python",
   "pygments_lexer": "ipython3",
   "version": "3.6.8"
  }
 },
 "nbformat": 4,
 "nbformat_minor": 1
}
